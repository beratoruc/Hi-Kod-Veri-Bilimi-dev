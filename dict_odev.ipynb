{
 "cells": [
  {
   "cell_type": "markdown",
   "metadata": {},
   "source": [
    "### Ödev 1\n",
    "\n",
    "Bir sözlük oluşturulur ve bu sözlükte öğrencilerin isimleri ve Matematik, Fizik, Kimya notları tutulur. Kullanıcıdan isim ve ders ismi(Matematik, Fizik, Kimya) istenir ve bu bilgilere göre çıktı verilir."
   ]
  },
  {
   "cell_type": "code",
   "execution_count": 5,
   "metadata": {},
   "outputs": [
    {
     "name": "stdout",
     "output_type": "stream",
     "text": [
      "berat oruç isimli öğrencinin Matematik dersindeki notu: 70\n"
     ]
    }
   ],
   "source": [
    "ders_bilgileri = {\n",
    "    \"berat oruç\":{\n",
    "        \"Matematik\":70,\n",
    "        \"Fizik\":80,\n",
    "        \"Kimya\":100\n",
    "    },\n",
    "    \"veysel tekin\":{\n",
    "        \"Matematik\":10,\n",
    "        \"Fizik\":70,\n",
    "        \"Kimya\":65\n",
    "    },\n",
    "    \"abdullah kızgın\":{\n",
    "        \"Matematik\":85,\n",
    "        \"Fizik\":50,\n",
    "        \"Kimya\":98\n",
    "    }\n",
    "}\n",
    "ogrenci_isim = input(\"Öğrenci ismini giriniz: \")\n",
    "ders_adi = input(\"Notunu öğrenmek istediğiniz dersi giriniz: \")\n",
    "\n",
    "notu = ders_bilgileri[ogrenci_isim][ders_adi]\n",
    "print(\"{} isimli öğrencinin {} dersindeki notu: {}\".format(ogrenci_isim, ders_adi, notu))"
   ]
  },
  {
   "cell_type": "markdown",
   "metadata": {},
   "source": [
    "### Ödev 2\n",
    "\n",
    "Sözlük üzerinde değerleri değiştirme, yeni değer ekleme, kullanıcıya ulaşmak istediği bilgileri sorma gibi uygulamalar yapın."
   ]
  },
  {
   "cell_type": "code",
   "execution_count": 12,
   "metadata": {},
   "outputs": [
    {
     "name": "stdout",
     "output_type": "stream",
     "text": [
      "{'Berat ': {'Matematik': 70, 'Fizik': 80, 'Kimya': 100}, 'Veysel': {'Matematik': 10, 'Fizik': 70, 'Kimya': 65}, 'Abdullah': {'Matematik': 85, 'Fizik': 50, 'Kimya': 98}, 'Yusuf': {'Matematik': 45, 'Fizik': 55, 'Kimya': 80}}\n"
     ]
    }
   ],
   "source": [
    "ders_bilgileri = {\n",
    "    \"Berat \":{\n",
    "        \"Matematik\":70,\n",
    "        \"Fizik\":80,\n",
    "        \"Kimya\":100\n",
    "    },\n",
    "    \"Veysel\":{\n",
    "        \"Matematik\":10,\n",
    "        \"Fizik\":70,\n",
    "        \"Kimya\":65\n",
    "    },\n",
    "    \"Abdullah\":{\n",
    "        \"Matematik\":85,\n",
    "        \"Fizik\":50,\n",
    "        \"Kimya\":98\n",
    "    }\n",
    "}\n",
    "\n",
    "secim=int(input(\"Yapmak istediğiniz işlemi seçiniz(1-3):\"))\n",
    "#öğrenci bilgilerini listele\n",
    "if secim==1:\n",
    "    ogrenci_isim=input(\"Öğrenci ismi giriniz:\").capitalize()\n",
    "    if ogrenci_isim in ders_bilgileri:\n",
    "        print(ders_bilgileri[ogrenci_isim])\n",
    "    else:\n",
    "        print(\"Böyle bir öğrenci bulunmamaktadır\")\n",
    "#öğrenci değerleri değiştirme\n",
    "elif secim==2:\n",
    "    not_degeri=float(input(\"Girmek istediğiniz değeri giriniz\"))\n",
    "    if not_degeri>100:\n",
    "        print(\"En fazla not olarak 100 girebilirsiniz.\")\n",
    "    else:\n",
    "        ogrenci_isim=input(\"öğrenci ismi giriniz:\").capitalize()\n",
    "        ders_adi=input(\"Değiştirmek istediğiniz ders ismini giriniz\").capitalize()\n",
    "        if ogrenci_isim in ders_bilgileri:\n",
    "            yeni_not = ders_bilgileri[ogrenci_isim][ders_adi]=not_degeri\n",
    "            print(\"{} isimli öğrencinin {} ders bilgisine ait yeni not: {}\".format(ogrenci_isim,ders_adi,yeni_not))\n",
    "        else:\n",
    "            print(\"Ad bilgisine ait bir öğrenci bulunamadı\")\n",
    "#yeni değer ekleme\n",
    "elif secim==3:\n",
    "    ders_bilgileri[\"Yusuf\"]={\"Matematik\":45,\"Fizik\":55,\"Kimya\":80}\n",
    "    print(ders_bilgileri)\n",
    "else:\n",
    "    print(\"Çıkış yapılıyor\")\n",
    "\n",
    "\n"
   ]
  }
 ],
 "metadata": {
  "kernelspec": {
   "display_name": "Python 3",
   "language": "python",
   "name": "python3"
  },
  "language_info": {
   "codemirror_mode": {
    "name": "ipython",
    "version": 3
   },
   "file_extension": ".py",
   "mimetype": "text/x-python",
   "name": "python",
   "nbconvert_exporter": "python",
   "pygments_lexer": "ipython3",
   "version": "3.11.2"
  }
 },
 "nbformat": 4,
 "nbformat_minor": 2
}
