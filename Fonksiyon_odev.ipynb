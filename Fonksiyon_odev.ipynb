{
 "cells": [
  {
   "cell_type": "markdown",
   "metadata": {},
   "source": [
    "#### Ödev 1\n",
    "Kullanıcıdan pi değeri ve yarıçap bilgisi alarak dairenin alanını hesaplayan bir fonksiyon oluşturulur."
   ]
  },
  {
   "cell_type": "code",
   "execution_count": 6,
   "metadata": {},
   "outputs": [
    {
     "name": "stdout",
     "output_type": "stream",
     "text": [
      "Girilen değerlere göre dairenin alanı : 18\n"
     ]
    }
   ],
   "source": [
    "def alan():\n",
    "    pi = int(input(\"Pi değerini giriniz\"))\n",
    "    yaricap = int(input(\"Yarıçap uzunluğunu giriniz\"))\n",
    "    daire_alan = pi * ( yaricap**2)\n",
    "    return daire_alan\n",
    "print(\"Girilen değerlere göre dairenin alanı : {}\".format(alan()))\n",
    "    "
   ]
  },
  {
   "cell_type": "markdown",
   "metadata": {},
   "source": [
    "#### Ödev 2\n",
    "\n",
    "Faktöriyel adında fonksiyon oluşturulur. Döngü kullanarak parametre olarak girilen sayının faktöriyeli hesaplanır. Format metodunu kullanılarak ekrana yazdırılır."
   ]
  },
  {
   "cell_type": "code",
   "execution_count": 26,
   "metadata": {},
   "outputs": [
    {
     "name": "stdout",
     "output_type": "stream",
     "text": [
      "-1 sayısının faktöriyel bulunamaz.\n"
     ]
    }
   ],
   "source": [
    "def faktoriyel(sayi):\n",
    "    faktoriyel = 1\n",
    "    if(sayi<0):\n",
    "        print(\"{} sayısının faktöriyel bulunamaz.\".format(sayi))\n",
    "    else:\n",
    "        for i in range(1, sayi + 1):\n",
    "            faktoriyel *= i\n",
    "        print(\"{} sayısının faktöriyeli: {}\".format(sayi, faktoriyel))\n",
    "\n",
    "\n",
    "faktoriyel(-1)"
   ]
  },
  {
   "cell_type": "markdown",
   "metadata": {},
   "source": [
    "#### Ödev 3\n",
    "Kişinin fonksiyona doğum yılını vererek kaç yaşında olduğunu hesaplayan bir fonksiyon oluşturun. "
   ]
  },
  {
   "cell_type": "code",
   "execution_count": 52,
   "metadata": {},
   "outputs": [
    {
     "name": "stdout",
     "output_type": "stream",
     "text": [
      "Şu anda yaşınız : 23\n"
     ]
    }
   ],
   "source": [
    "from datetime import datetime\n",
    "\n",
    "def yas_hesapla(dogum_tarihi):\n",
    "    tarih = datetime.now()\n",
    "    yas = tarih.year - dogum_tarihi #tarih bilgisini yıl çevirme -> year\n",
    "    print(\"Şu anda yaşınız : {}\".format(yas))\n",
    "yasiniz=int(input(\"Doğum tarihini giriniz\"))\n",
    "yas_hesapla(yasiniz)\n",
    "\n",
    "\n"
   ]
  },
  {
   "cell_type": "markdown",
   "metadata": {},
   "source": [
    "#### Ödev 4\n",
    "\n",
    "Doğum yılı ve isim bilgisi verilen fonksiyon kişinin emekli olup olmadığını söylesin.(Kişi 65 yaşında ise emekli olur.) Burada yaş hesabını yukarıdaki örnekteki fonksiyonu kullanarak yapsın.(Yani fonksiyon içinde fonksiyon kullanmanızı istiyorum :)) Kişi 65 yaşında ya da daha fazlaysa \"Emekli oldunuz\" yanıtını, 65 yaşından küçükse emekliliğine kaç yıl kaldığını da hesaplayarak \"(isim) emekliliğine (yıl) kaldı.\" yanıtını versin."
   ]
  },
  {
   "cell_type": "code",
   "execution_count": 12,
   "metadata": {},
   "outputs": [
    {
     "name": "stdout",
     "output_type": "stream",
     "text": [
      "berat emekliliğinize kalan süre: 41 yıl.\n"
     ]
    }
   ],
   "source": [
    "from datetime import datetime\n",
    "\n",
    "def yas_hesapla(dogum_yili):\n",
    "    simdiki_yil = datetime.now().year\n",
    "    yas = simdiki_yil - dogum_yili\n",
    "    return yas\n",
    "\n",
    "def emeklilik(adiniz, yas):\n",
    "    emeklilik_yasi = 65\n",
    "    if yas >= emeklilik_yasi:\n",
    "        print(\"{} emekli oldunuz, yaşınız: {}\".format(adiniz, yas))\n",
    "    else:\n",
    "        kalan_yil = emeklilik_yasi - yas\n",
    "        print(\"{} emekliliğinize kalan süre: {} yıl.\".format(adiniz, kalan_yil))\n",
    "\n",
    "yasiniz = int(input(\"Doğum yılınızı giriniz: \"))\n",
    "adiniz = input(\"Lütfen adınızı giriniz: \")\n",
    "\n",
    "yas = yas_hesapla(yasiniz)\n",
    "emeklilik(adiniz, yas)\n"
   ]
  }
 ],
 "metadata": {
  "kernelspec": {
   "display_name": "Python 3",
   "language": "python",
   "name": "python3"
  },
  "language_info": {
   "codemirror_mode": {
    "name": "ipython",
    "version": 3
   },
   "file_extension": ".py",
   "mimetype": "text/x-python",
   "name": "python",
   "nbconvert_exporter": "python",
   "pygments_lexer": "ipython3",
   "version": "3.11.2"
  }
 },
 "nbformat": 4,
 "nbformat_minor": 2
}
