{
 "cells": [
  {
   "cell_type": "markdown",
   "id": "032d81b2",
   "metadata": {},
   "source": [
    "# 1\n",
    "x = 3 ----> floata çevirelim. Çevirdikten sonra beri tipinide yazdıralım.\n",
    "\n",
    "y = 4.5 -----> integere çevirelim. Çevirdikten sonra beri tipinide yazdıralım.\n",
    "\n",
    "z = \"8\" -----> integera çevirelim. Çevirdikten sonra beri tipinide yazdıralım.\n",
    "\n",
    "a = \"12\" -----> floata çevirelim. Çevirdikten sonra beri tipinide yazdıralım.\n",
    "\n",
    "b = \"46.8\" ------> integera çevirelim. Çevirdikten sonra beri tipinide yazdıralım."
   ]
  },
  {
   "cell_type": "code",
   "execution_count": 4,
   "id": "f1b735c0",
   "metadata": {},
   "outputs": [
    {
     "name": "stdout",
     "output_type": "stream",
     "text": [
      "x: 3.0 Tip: <class 'float'>\n",
      "y: 4 Tip: <class 'int'>\n",
      "z: 8 Tip: <class 'int'>\n",
      "a: 12.0 Tip: <class 'float'>\n",
      "b: 46 Tip: <class 'int'>\n"
     ]
    }
   ],
   "source": [
    "# x'i floata çevirme\n",
    "x = 3\n",
    "x = float(x)\n",
    "print(\"x:\", x, \"Tip:\", type(x))\n",
    "\n",
    "# y'yi integere çevirme\n",
    "y = 4.5\n",
    "y = int(y)\n",
    "print(\"y:\", y, \"Tip:\", type(y))\n",
    "\n",
    "# z'yi integere çevirme\n",
    "z = \"8\"\n",
    "z = int(z)\n",
    "print(\"z:\", z, \"Tip:\", type(z))\n",
    "\n",
    "# a'yı floata çevirme\n",
    "a = \"12\"\n",
    "a = float(a)\n",
    "print(\"a:\", a, \"Tip:\", type(a))\n",
    "\n",
    "# b'yi integere çevirme\n",
    "b = \"46.8\"\n",
    "b = int(float(b))  # Önce floata çevirip, sonra integera çevirme\n",
    "print(\"b:\", b, \"Tip:\", type(b))"
   ]
  },
  {
   "cell_type": "markdown",
   "id": "95509718",
   "metadata": {},
   "source": [
    "# 2 \n",
    "İsimlerden oluşan üç değişkene yaş değerleri atanır. Belirlenen üç değişken birbiriyle karşılaştırma operatörleri ile karşılaştırılır. Bu karşılaştırmalara mantıksal operatörler de eklenir.\n"
   ]
  },
  {
   "cell_type": "code",
   "execution_count": 5,
   "id": "50f77b4f",
   "metadata": {},
   "outputs": [
    {
     "name": "stdout",
     "output_type": "stream",
     "text": [
      "Ali'nin yaşı Veli'nin yaşına veya Ahmet'in yaşına eşittir.\n",
      "Ali'nin yaşı Veli'nin yaşından küçük ve Ahmet'in yaşı Ali'ninkinden küçük veya eşittir.\n"
     ]
    }
   ],
   "source": [
    "\n",
    "ali_yasi = 25\n",
    "veli_yasi = 30\n",
    "ahmet_yasi = 25\n",
    "\n",
    "# Karşılaştırmalar ve mantıksal operatörlerin kullanımı\n",
    "if ali_yasi == veli_yasi or ali_yasi == ahmet_yasi:\n",
    "    print(\"Ali'nin yaşı Veli'nin yaşına veya Ahmet'in yaşına eşittir.\")\n",
    "else:\n",
    "    print(\"Ali'nin yaşı ne Veli'nin yaşına ne de Ahmet'in yaşına eşittir.\")\n",
    "\n",
    "if ali_yasi < veli_yasi and ahmet_yasi <= ali_yasi:\n",
    "    print(\"Ali'nin yaşı Veli'nin yaşından küçük ve Ahmet'in yaşı Ali'ninkinden küçük veya eşittir.\")\n",
    "else:\n",
    "    print(\"Bu koşul sağlanmıyor.\")"
   ]
  },
  {
   "cell_type": "markdown",
   "id": "a1a0eb92",
   "metadata": {},
   "source": [
    "# 3\n",
    "Kullanıcıdan iki değer girmesini istenir. Girilen değerlerin toplama, çıkarma, çarpma, bölme sonuçlarını yazdırılır."
   ]
  },
  {
   "cell_type": "code",
   "execution_count": 7,
   "id": "c361e45a",
   "metadata": {},
   "outputs": [
    {
     "name": "stdout",
     "output_type": "stream",
     "text": [
      "Toplam: 20.0\n",
      "Çıkarma: -10.0\n",
      "Çarpma: 75.0\n",
      "Bölme: 0.3333333333333333\n"
     ]
    }
   ],
   "source": [
    "# Kullanıcıdan iki sayı girişi istenir\n",
    "sayi1 = float(input(\"Birinci sayıyı girin: \"))\n",
    "sayi2 = float(input(\"İkinci sayıyı girin: \"))\n",
    "\n",
    "# Toplama işlemi\n",
    "toplam = sayi1 + sayi2\n",
    "print(f\"Toplam: {toplam}\")ß\n",
    "\n",
    "# Çıkarma işlemi\n",
    "cikarma = sayi1 - sayi2\n",
    "print(f\"Çıkarma: {cikarma}\")\n",
    "\n",
    "# Çarpma işlemi\n",
    "carpma = sayi1 * sayi2\n",
    "print(f\"Çarpma: {carpma}\")\n",
    "\n",
    "# Bölme işlemi\n",
    "# Bölme işlemi sırasında 0'a bölme hatasını kontrol etmek önemlidir\n",
    "if sayi2 != 0:\n",
    "    bolme = sayi1 / sayi2\n",
    "    print(f\"Bölme: {bolme}\")\n",
    "else:\n",
    "    print(\"İkinci sayı sıfır olamaz, bölme işlemi geçersiz.\")\n"
   ]
  },
  {
   "cell_type": "markdown",
   "id": "060b0bea",
   "metadata": {},
   "source": [
    "# 4\n",
    "Kullanıcıdan isim, yaş, şehir ve meslek bilgilerini istenir ve cevaplarını yazdırılır."
   ]
  },
  {
   "cell_type": "code",
   "execution_count": 8,
   "id": "6f5dea59",
   "metadata": {},
   "outputs": [
    {
     "name": "stdout",
     "output_type": "stream",
     "text": [
      "isim: berat, yas: 24, sehir: mersin, meslek: mühendis\n"
     ]
    }
   ],
   "source": [
    "isim=input(\"isminizi giriniz\")\n",
    "yas=int(input(\"yaşınızı giriniz\"))\n",
    "sehir=input(\"şehir giriniz\")\n",
    "meslek=input(\"mesleğinizi giriniz\")\n",
    "\n",
    "print(f\"isim: {isim}, yas: {yas}, sehir: {sehir}, meslek: {meslek}\")"
   ]
  },
  {
   "cell_type": "markdown",
   "id": "55e1a34e",
   "metadata": {},
   "source": [
    "# 5\n",
    "\"Hi-Kod Veri Bilimi Atölyesi\" ifadesini bir değişkene tanımlanır.\n",
    "\n",
    "\n",
    " 1. İfadedeki her bir kelimeyi (\"Hi-Kod\", \"Veri\", \"Bilimi\", \"Atölyesi\") değişken içinden seçilir. \n",
    " 2. İfadeyi hepsini büyük harf olacak hale çevrilir. (\"HI-KOD VERİ BİLİMİ ATÖLYESİ\") \n",
    " 3. İfadeyi hepsini büyük harf olacak hale çevrilir.(\"hi-kod veri bilimi atölyesi\") \n",
    "\n",
    "\"0123456789\" ifadesindeki yalnızca çift sayıları ve yalnızca tek sayıları seçilir. (\"02468\", \"13579\")"
   ]
  },
  {
   "cell_type": "code",
   "execution_count": 9,
   "id": "0fc1bc40",
   "metadata": {},
   "outputs": [
    {
     "name": "stdout",
     "output_type": "stream",
     "text": [
      "Her bir kelime: ['Hi-Kod', 'Veri', 'Bilimi', 'Atölyesi']\n",
      "İfade büyük harf: HI-KOD VERI BILIMI ATÖLYESI\n",
      "İfade küçük harf: hi-kod veri bilimi atölyesi\n",
      "Çift sayılar: 02468\n",
      "Tek sayılar: 13579\n"
     ]
    }
   ],
   "source": [
    "# İfadeyi bir değişkene tanımla\n",
    "ifade = \"Hi-Kod Veri Bilimi Atölyesi\"\n",
    "\n",
    "# Her bir kelimeyi seçme\n",
    "kelimeler = ifade.split()\n",
    "hi_kod, veri, bilimi, atolyesi = kelimeler\n",
    "\n",
    "# İfadeleri büyük harfe çevirme\n",
    "buyuk_harf = ifade.upper()\n",
    "kucuk_harf = ifade.lower()\n",
    "\n",
    "# \"0123456789\" ifadesindeki çift ve tek sayıları seçme\n",
    "sayilar = \"0123456789\"\n",
    "cift_sayilar = sayilar[::2]  # 0, 2, 4, 6, 8\n",
    "tek_sayilar = sayilar[1::2]  # 1, 3, 5, 7, 9\n",
    "\n",
    "# Sonuçları yazdırma\n",
    "print(\"Her bir kelime:\", kelimeler)\n",
    "print(\"İfade büyük harf:\", buyuk_harf)\n",
    "print(\"İfade küçük harf:\", kucuk_harf)\n",
    "print(\"Çift sayılar:\", cift_sayilar)\n",
    "print(\"Tek sayılar:\", tek_sayilar)\n"
   ]
  }
 ],
 "metadata": {
  "kernelspec": {
   "display_name": "Python 3 (ipykernel)",
   "language": "python",
   "name": "python3"
  },
  "language_info": {
   "codemirror_mode": {
    "name": "ipython",
    "version": 3
   },
   "file_extension": ".py",
   "mimetype": "text/x-python",
   "name": "python",
   "nbconvert_exporter": "python",
   "pygments_lexer": "ipython3",
   "version": "3.11.2"
  }
 },
 "nbformat": 4,
 "nbformat_minor": 5
}
