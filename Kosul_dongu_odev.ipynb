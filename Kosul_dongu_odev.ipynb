{
 "cells": [
  {
   "cell_type": "markdown",
   "id": "409f0f4a",
   "metadata": {},
   "source": [
    "**Ödev-1:** Kullanıcıdan maaş bilgisini istenir ve bu bilgiye göre maaşından ne kadar vergi kesileceğini hesaplanır. Kullanıcının geliri;\n",
    "\n",
    "1. 10000 ve altındaysa maaşından %5 kesinti olur.\n",
    "2. 25000 ve altındaysa maaşından %10 kesinti olur.\n",
    "3. 45000 ve altındaysa maaşından %25 kesinti olur.\n",
    "4. Diğer koşullarda %30 kesinti olur.\n",
    "\n",
    "Bu durumlara göre kullanıcının yeni maaşı yazdırılır."
   ]
  },
  {
   "cell_type": "code",
   "execution_count": 3,
   "id": "5246e510",
   "metadata": {},
   "outputs": [
    {
     "name": "stdout",
     "output_type": "stream",
     "text": [
      "25000 ve altı kesintili maaş vergisi, 18000.0\n"
     ]
    }
   ],
   "source": [
    "maas = float(input(\"Lütfen maaşınızı giriniz:\"))\n",
    "if maas <=10000:\n",
    "    yeniMaas= maas - (maas*5/100)\n",
    "    print(f\"10000 ve altı kesintili maas vergisi, {yeniMaas}\")\n",
    "elif maas<=25000:\n",
    "    yeniMaas= maas - (maas*10/100)\n",
    "    print(f\"25000 ve altı kesintili maaş vergisi, {yeniMaas}\")\n",
    "elif maas<=45000:\n",
    "    yeniMaas = maas - (maas*25/100)\n",
    "    print(f\"45000 ve altı kesitili maas vergisi, {yeniMaas}\")\n",
    "else:\n",
    "    yeniMaas = maas - (maas*30/100)\n",
    "    print(f\"45000 tl üstü kesintili maaş vergisi, {yeniMaas}\")\n"
   ]
  },
  {
   "cell_type": "markdown",
   "id": "f5fe8798",
   "metadata": {},
   "source": [
    "**Ödev-2:** Kullanıcıdan kullanıcı adı ve şifre oluşturmasını istenir. Şifrenin uzunluğu altı haneye ulaşmışsa hesabınız oluşturuldu mesajı alınır, altı haneden azsa altı haneli şifre oluşturması gerektiğinin mesajı alınır. *(Sadece koşul kullanılması yeterli.)*"
   ]
  },
  {
   "cell_type": "code",
   "execution_count": 4,
   "id": "6acffe57",
   "metadata": {},
   "outputs": [
    {
     "name": "stdout",
     "output_type": "stream",
     "text": [
      "hesabınız oluşturuldu\n"
     ]
    }
   ],
   "source": [
    "kullaniciAdi=input(\"kullanıcı adınızı giriniz\")\n",
    "sifre = input(\"lütfen şifrenizi giriniz\")\n",
    "\n",
    "if len(sifre)>=6:\n",
    "    print(\"hesabınız oluşturuldu\")\n",
    "else:\n",
    "    print(\"alti haneli şifre oluşturulması gerekmektedir\")\n"
   ]
  },
  {
   "cell_type": "markdown",
   "id": "aaccf11a",
   "metadata": {},
   "source": [
    "**Ödev-3:** Bir önceki örnek geliştirilir.\n",
    "\n",
    "1. Kullanıcı girdiği şifre 5 ve 10 hane arasında olmak zorunda.\n",
    "2. Eğer bu koşula uyuyorsa \"Hesabınız oluşturuldu.\" mesajı alır.\n",
    "3. Koşulu sağlamıyorsa \"Lütfen girdiniz şifre 5 haneden az 10 haneden fazla olmasın!\" uyarısı alır.\n",
    "4. Bunu oluştururken kullanıcı istediğimiz şartlarda şifre oluşturana kadar sormaya devam eder"
   ]
  },
  {
   "cell_type": "code",
   "execution_count": 2,
   "id": "039e50dc",
   "metadata": {},
   "outputs": [
    {
     "name": "stdout",
     "output_type": "stream",
     "text": [
      "Lütfen girdiniz şifre 5 haneden az 10 haneden fazla olmasın!\n",
      "Lütfen girdiniz şifre 5 haneden az 10 haneden fazla olmasın!\n",
      "Hesabınız Oluşturuldu\n"
     ]
    }
   ],
   "source": [
    "while True:\n",
    "    sifre=input(\"Lütfen şifrenizi giriniz (5 ve 10 hane arasında olmalıdır)\")\n",
    "    if 5<=len(sifre) and len(sifre)<=10:\n",
    "        print(\"Hesabınız Oluşturuldu\")\n",
    "        break\n",
    "    else:\n",
    "        print(\"Lütfen girdiniz şifre 5 haneden az 10 haneden fazla olmasın!\")"
   ]
  },
  {
   "cell_type": "markdown",
   "id": "8ba81863",
   "metadata": {},
   "source": [
    "**Ödev-4:** Kullanıcıdan isim ve şifre isteyeceğiz ve şifre girişi için üç hak verilir.\n",
    "\n",
    "1. Eğer önceden tanımlı şifre ile kullanıcıdan gelen şifre aynıysa \"Giriş yapıldı.\" yazar.\n",
    "2. Şifre girişi yanlışsa \"Yanlış şifre girildi!\" uyarısı verilsin ve üç yanlış denemede program biter.\n",
    "3. Tercihe göre kalan hak bilgisi verilir."
   ]
  },
  {
   "cell_type": "code",
   "execution_count": 6,
   "id": "8f45ea0c",
   "metadata": {},
   "outputs": [
    {
     "name": "stdout",
     "output_type": "stream",
     "text": [
      "Yanlış şifre girildi! Kalan hakkınız: 2\n",
      "Yanlış şifre girildi! Kalan hakkınız: 1\n",
      "Üç kez yanlış şifre girişi. Program sona erdi.\n"
     ]
    }
   ],
   "source": [
    "dogru_sifre = \"ornekSifre123\"\n",
    "kullanici_adi = input(\"Kullanıcı Adınızı Girin: \")\n",
    "sifre_hakki = 3\n",
    "\n",
    "while sifre_hakki > 0:\n",
    "    girilen_sifre = input(\"Şifrenizi Girin: \")\n",
    "\n",
    "    if girilen_sifre == dogru_sifre:\n",
    "        print(\"Giriş yapıldı.\")\n",
    "        break\n",
    "    else:\n",
    "        sifre_hakki -= 1\n",
    "        if sifre_hakki > 0:\n",
    "            print(f\"Yanlış şifre girildi! Kalan hakkınız: {sifre_hakki}\")\n",
    "        else:\n",
    "            print(\"Üç kez yanlış şifre girişi. Program sona erdi.\")\n",
    "            break\n",
    "\n",
    "    \n",
    "    "
   ]
  }
 ],
 "metadata": {
  "kernelspec": {
   "display_name": "Python 3 (ipykernel)",
   "language": "python",
   "name": "python3"
  },
  "language_info": {
   "codemirror_mode": {
    "name": "ipython",
    "version": 3
   },
   "file_extension": ".py",
   "mimetype": "text/x-python",
   "name": "python",
   "nbconvert_exporter": "python",
   "pygments_lexer": "ipython3",
   "version": "3.11.2"
  }
 },
 "nbformat": 4,
 "nbformat_minor": 5
}
