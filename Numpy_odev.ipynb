{
 "cells": [
  {
   "cell_type": "markdown",
   "id": "a0f6364d",
   "metadata": {},
   "source": [
    "##### 1.Sayılardan oluşan bir boyutlu array oluşturun. Arrayi oluştururken sayıların veri tipini integer olarak belirtelim.\n",
    "\n",
    "Oluşturulan arrayin boyut, eleman sayısı bilgilerine bakalım."
   ]
  },
  {
   "cell_type": "code",
   "execution_count": 4,
   "id": "c16c30a6",
   "metadata": {},
   "outputs": [
    {
     "name": "stdout",
     "output_type": "stream",
     "text": [
      "[ 3  5 15 23]\n",
      "1\n",
      "4\n"
     ]
    }
   ],
   "source": [
    "\n",
    "import numpy as np\n",
    "bir_boyut = np.array([3,5,15,23],dtype=\"int\")\n",
    "print(bir_boyut)\n",
    "\n",
    "##boyut\n",
    "print(bir_boyut.ndim)\n",
    "##eleman-sayisi\n",
    "print(bir_boyut.size)"
   ]
  },
  {
   "cell_type": "markdown",
   "id": "1681f851",
   "metadata": {},
   "source": [
    "##### 2. Aşağıda verilen iki boyutlu ve üç boyutlu arrayi oluşturalım. Bu arraylerin boyut, eleman sayısı, satır, sütun bilgilerine ulaşalım. \n",
    "\n",
    "İki boyutlu array:\n",
    "[[1,2,6,7],\n",
    " [4,3,9,5]]\n",
    "\n",
    "Üç boyutlu array:\n",
    "[[[7,5,14],[21,8,11]],\n",
    " [[8,6,20],[14,3,9]]]\n",
    "\n",
    " "
   ]
  },
  {
   "cell_type": "code",
   "execution_count": 15,
   "id": "e3a138ed",
   "metadata": {},
   "outputs": [
    {
     "name": "stdout",
     "output_type": "stream",
     "text": [
      "[[1 2 6 7]\n",
      " [4 3 9 5]] boyutlu dizinin eleman sayısı: 8\n",
      "[[1 2 6 7]\n",
      " [4 3 9 5]] boyutlu dizinin boyut sayısı: 2\n",
      "[[1 2 6 7]\n",
      " [4 3 9 5]] boyutlu dizinin satır-sütün bilgisi: (2, 4)\n",
      "--------------------\n",
      "[[[ 7  5 14]\n",
      "  [21  8 11]]\n",
      "\n",
      " [[ 8  6 20]\n",
      "  [14  3  9]]] boyutlu dizinin eleman sayısı : 12\n",
      "[[[ 7  5 14]\n",
      "  [21  8 11]]\n",
      "\n",
      " [[ 8  6 20]\n",
      "  [14  3  9]]] boyutlu dizinin boyut sayısı : 3\n",
      "[[[ 7  5 14]\n",
      "  [21  8 11]]\n",
      "\n",
      " [[ 8  6 20]\n",
      "  [14  3  9]]] boyutlu dizinin satır-sütün bilgisi: (2, 2, 3)\n"
     ]
    }
   ],
   "source": [
    "import numpy as np\n",
    "new_array = np.array([[1,2,6,7],[4,3,9,5]])\n",
    "new_array\n",
    "print(\"{} boyutlu dizinin eleman sayısı: {}\".format(new_array,new_array.size))\n",
    "print(\"{} boyutlu dizinin boyut sayısı: {}\".format(new_array,new_array.ndim))\n",
    "print(\"{} boyutlu dizinin satır-sütün bilgisi: {}\".format(new_array,np.shape(new_array)))\n",
    "print(\"--------------------\")\n",
    "uc_boyutlu = np.array([[[7,5,14],[21,8,11]],\n",
    " [[8,6,20],[14,3,9]]])\n",
    "uc_boyutlu\n",
    "print(\"{} boyutlu dizinin eleman sayısı : {}\".format(uc_boyutlu,uc_boyutlu.size))\n",
    "print(\"{} boyutlu dizinin boyut sayısı : {}\".format(uc_boyutlu,uc_boyutlu.ndim))\n",
    "print(\"{} boyutlu dizinin satır-sütün bilgisi: {}\".format(uc_boyutlu,np.shape(uc_boyutlu)))"
   ]
  },
  {
   "cell_type": "markdown",
   "id": "b45192b0",
   "metadata": {},
   "source": [
    "##### 3. İstenilen elamanlara ulaşmak için arrayler üzerinde indexleme işlemi yapalım"
   ]
  },
  {
   "cell_type": "code",
   "execution_count": 16,
   "id": "563f9992",
   "metadata": {},
   "outputs": [
    {
     "data": {
      "text/plain": [
       "2"
      ]
     },
     "execution_count": 16,
     "metadata": {},
     "output_type": "execute_result"
    }
   ],
   "source": [
    "#İki boyutlu arraydaki 2 elemanına ulaşalım\n",
    "import numpy as np\n",
    "new_array = np.array([[1,2,6,7],[4,3,9,5]])\n",
    "new_array[0,1]"
   ]
  },
  {
   "cell_type": "code",
   "execution_count": 17,
   "id": "fd0a0be4",
   "metadata": {},
   "outputs": [
    {
     "data": {
      "text/plain": [
       "7"
      ]
     },
     "execution_count": 17,
     "metadata": {},
     "output_type": "execute_result"
    }
   ],
   "source": [
    "#İki boyutlu arraydaki 7 elemanına ulaşalım\n",
    "new_array[0,3]"
   ]
  },
  {
   "cell_type": "code",
   "execution_count": 18,
   "id": "0c2b1884",
   "metadata": {},
   "outputs": [
    {
     "data": {
      "text/plain": [
       "9"
      ]
     },
     "execution_count": 18,
     "metadata": {},
     "output_type": "execute_result"
    }
   ],
   "source": [
    "#Üç boyutlu arraydaki 9 elemanına ulaşalım\n",
    "uc_boyutlu = np.array([[[7,5,14],[21,8,11]],\n",
    " [[8,6,20],[14,3,9]]])\n",
    "uc_boyutlu[1][1][2]"
   ]
  },
  {
   "cell_type": "code",
   "execution_count": 19,
   "id": "0dc07d00",
   "metadata": {},
   "outputs": [
    {
     "data": {
      "text/plain": [
       "5"
      ]
     },
     "execution_count": 19,
     "metadata": {},
     "output_type": "execute_result"
    }
   ],
   "source": [
    "#Üç boyutlu arraydaki 5 elemanına ulaşalım\n",
    "uc_boyutlu[0][0][1]"
   ]
  },
  {
   "cell_type": "markdown",
   "id": "12198bc9",
   "metadata": {},
   "source": [
    "##### 4. Arrayler üzerinde slicing işlemi uygulayalım."
   ]
  },
  {
   "cell_type": "code",
   "execution_count": 20,
   "id": "9d066ba1",
   "metadata": {},
   "outputs": [
    {
     "data": {
      "text/plain": [
       "array([2, 6])"
      ]
     },
     "execution_count": 20,
     "metadata": {},
     "output_type": "execute_result"
    }
   ],
   "source": [
    "#İki boyutlu arraydaki 2,6 elemanlarına ulaşalım\n",
    "new_array = np.array([[1,2,6,7],[4,3,9,5]])\n",
    "new_array[0,1:3]"
   ]
  },
  {
   "cell_type": "code",
   "execution_count": 21,
   "id": "e020f980",
   "metadata": {},
   "outputs": [
    {
     "data": {
      "text/plain": [
       "array([3, 9, 5])"
      ]
     },
     "execution_count": 21,
     "metadata": {},
     "output_type": "execute_result"
    }
   ],
   "source": [
    "#İki boyutlu arraydaki 3,9,5 elemanlarına ulaşalım\n",
    "new_array[1,1:4]\n"
   ]
  },
  {
   "cell_type": "code",
   "execution_count": 22,
   "id": "891bed31",
   "metadata": {},
   "outputs": [
    {
     "data": {
      "text/plain": [
       "array([21,  8, 11])"
      ]
     },
     "execution_count": 22,
     "metadata": {},
     "output_type": "execute_result"
    }
   ],
   "source": [
    "#Üç boyutlu arraydaki 21,8,11 elemanlarına ulaşalım\n",
    "uc_boyutlu = np.array([[[7,5,14],[21,8,11]],\n",
    " [[8,6,20],[14,3,9]]])\n",
    "uc_boyutlu[0,1]\n"
   ]
  },
  {
   "cell_type": "code",
   "execution_count": 23,
   "id": "bcbf5f17",
   "metadata": {},
   "outputs": [
    {
     "data": {
      "text/plain": [
       "array([ 6, 20])"
      ]
     },
     "execution_count": 23,
     "metadata": {},
     "output_type": "execute_result"
    }
   ],
   "source": [
    "#Üç boyutlu arraydaki 6,20 elemanlarına ulaşalım\n",
    "uc_boyutlu[1][0][1:3]\n"
   ]
  },
  {
   "cell_type": "markdown",
   "id": "66d2aab8",
   "metadata": {},
   "source": [
    "##### 5. 5 satır 3 sütunluk sıfırlardan ve birlerden oluşan iki tane iki boyutlu array oluşturalım. Bu arrayleri satır ve sütun bazında birleştirelim."
   ]
  },
  {
   "cell_type": "code",
   "execution_count": 28,
   "id": "99a6ed29",
   "metadata": {},
   "outputs": [
    {
     "data": {
      "text/plain": [
       "array([[0, 0, 0, 1, 1, 1],\n",
       "       [0, 0, 0, 1, 1, 1],\n",
       "       [0, 0, 0, 1, 1, 1],\n",
       "       [0, 0, 0, 1, 1, 1],\n",
       "       [0, 0, 0, 1, 1, 1]])"
      ]
     },
     "execution_count": 28,
     "metadata": {},
     "output_type": "execute_result"
    }
   ],
   "source": [
    "a=np.zeros((5,3),dtype=\"int\")\n",
    "a\n",
    "\n",
    "b=np.ones((5,3),dtype=\"int\")\n",
    "b\n",
    "\n",
    "np.concatenate([a,b])\n",
    "np.concatenate([a,b],axis=1)"
   ]
  }
 ],
 "metadata": {
  "kernelspec": {
   "display_name": "Python 3 (ipykernel)",
   "language": "python",
   "name": "python3"
  },
  "language_info": {
   "codemirror_mode": {
    "name": "ipython",
    "version": 3
   },
   "file_extension": ".py",
   "mimetype": "text/x-python",
   "name": "python",
   "nbconvert_exporter": "python",
   "pygments_lexer": "ipython3",
   "version": "3.11.2"
  }
 },
 "nbformat": 4,
 "nbformat_minor": 5
}
